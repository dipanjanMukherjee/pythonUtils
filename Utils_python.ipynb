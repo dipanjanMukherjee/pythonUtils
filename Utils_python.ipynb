{
 "cells": [
  {
   "cell_type": "code",
   "execution_count": 2,
   "metadata": {},
   "outputs": [
    {
     "data": {
      "text/plain": [
       "[0.6037488961486257, 0.030058887569574023, 0.3661922162818002]"
      ]
     },
     "execution_count": 2,
     "metadata": {},
     "output_type": "execute_result"
    }
   ],
   "source": [
    "#softmax function\n",
    "\n",
    "logits = [1,-2,0.5]\n",
    "import numpy as np\n",
    "exps = [np.exp(i) for i in logits]\n",
    "sum_of_exps = sum(exps)\n",
    "softmax = [j/sum_of_exps for j in exps]\n",
    "softmax"
   ]
  },
  {
   "cell_type": "code",
   "execution_count": 7,
   "metadata": {},
   "outputs": [
    {
     "data": {
      "text/plain": [
       "exp(sin(x*y))*Subs(Derivative(f(sin(x*y), _xi_2), _xi_2), (_xi_2,), (exp(sin(x*y)),)) + Subs(Derivative(f(_xi_1, exp(sin(x*y))), _xi_1), (_xi_1,), (sin(x*y),))"
      ]
     },
     "execution_count": 7,
     "metadata": {},
     "output_type": "execute_result"
    }
   ],
   "source": [
    "#differential calculus\n",
    "\n",
    "from sympy import *\n",
    "x, y = symbols('x y')\n",
    "a = symbols('f', cls=Function)\n",
    "x = sin(x*y)\n",
    "y = exp(x)\n",
    "g = a(x,y)\n",
    "Derivative(g, x).doit()"
   ]
  },
  {
   "cell_type": "code",
   "execution_count": null,
   "metadata": {},
   "outputs": [],
   "source": [
    "import numpy as np\n",
    "\n",
    "A = np.random.randn(4,3)\n",
    "B = np.sum(A, axis = 1, keepdims = True)\n",
    "B.shape"
   ]
  },
  {
   "cell_type": "code",
   "execution_count": null,
   "metadata": {},
   "outputs": [],
   "source": [
    "import nltk\n",
    "nltk.download()\n",
    "dir(nltk)\n",
    "from nltk.corpus import stopwords\n",
    "\n",
    "stopwords.words('english')[0:500:25]"
   ]
  },
  {
   "cell_type": "code",
   "execution_count": null,
   "metadata": {},
   "outputs": [],
   "source": [
    "#rake nltk\n",
    "\n",
    "!pip install rake-nltk\n",
    "from rake_nltk import rake\n",
    "\n",
    "r = rake.Rake(min_length = 2 , max_length = 4 )\n",
    "\n",
    "text = \"\"\n",
    "\n",
    "r.extract_keywords_from_text(text)\n",
    "\n",
    "r.get_ranked_phrases()"
   ]
  }
 ],
 "metadata": {
  "kernelspec": {
   "display_name": "Python 3",
   "language": "python",
   "name": "python3"
  },
  "language_info": {
   "codemirror_mode": {
    "name": "ipython",
    "version": 3
   },
   "file_extension": ".py",
   "mimetype": "text/x-python",
   "name": "python",
   "nbconvert_exporter": "python",
   "pygments_lexer": "ipython3",
   "version": "3.6.4"
  }
 },
 "nbformat": 4,
 "nbformat_minor": 2
}
